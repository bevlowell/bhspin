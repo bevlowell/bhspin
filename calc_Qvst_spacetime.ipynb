{
 "cells": [
  {
   "cell_type": "code",
   "execution_count": 1,
   "metadata": {},
   "outputs": [
    {
     "name": "stderr",
     "output_type": "stream",
     "text": [
      "C:\\Users\\Beverly\\Documents\\HAMR_macros\\pp.py:38: MatplotlibDeprecationWarning: Support for setting an rcParam that expects a str value to a non-str value is deprecated since 3.5 and support will be removed two minor releases later.\n",
      "  mpl.rcParams['text.latex.preamble'] = [r\"\\usepackage{amssymb,amsmath}\"]\n"
     ]
    }
   ],
   "source": [
    "import os\n",
    "global notebook\n",
    "notebook=1\n",
    "\n",
    "#Set directory of Python\n",
    "dir = r\"C:\\Users\\Beverly\\Documents\\HAMR_macros\"\n",
    "os.chdir(dir) #hamr\n",
    "#Compile python toolkit\n",
    "%run -i C:\\Users\\Beverly\\Documents\\HAMR_macros\\pp.py do_nothing\n",
    "%run -i C:\\Users\\Beverly\\Documents\\HAMR_macros\\timeavg_functions.ipynb\n",
    "%matplotlib inline\n",
    "\n",
    "#Set parameters for all simulations loaded\n",
    "lowres1 = 1\n",
    "lowres2 = 1\n",
    "lowres3 = 1\n",
    "do_box=0\n",
    "r_min=0.0\n",
    "r_max=100.0\n",
    "theta_min=0.0\n",
    "theta_max=9\n",
    "phi_min=-1\n",
    "phi_max=9\n",
    "axisym=1 \n",
    "print_fieldlines=0 \n",
    "export_raytracing_GRTRANS=0 \n",
    "export_raytracing_RAZIEH=0\n",
    "interpolate_var=0\n",
    "kerr_schild=0\n",
    "DISK_THICKNESS=0.03 \n",
    "set_cart=0 \n",
    "set_mpi(0) \n",
    "check_files=1\n",
    "notebook=1"
   ]
  },
  {
   "cell_type": "code",
   "execution_count": 2,
   "metadata": {},
   "outputs": [],
   "source": [
    "### Make a dictionary for each spin\n",
    "\n",
    "# uncooled\n",
    "an9_vtime={}\n",
    "an5_vtime={}\n",
    "a0_vtime={}\n",
    "a2_vtime={}\n",
    "a3_vtime={}\n",
    "a5_vtime={}\n",
    "\n",
    "# cooled\n",
    "an9c_vtime = {}\n",
    "an5c_vtime = {}\n",
    "a0c_vtime = {}\n",
    "a2c_vtime = {}\n",
    "a3c_vtime = {}\n",
    "a5c_vtime = {}\n",
    "a94c_vtime = {}"
   ]
  },
  {
   "cell_type": "code",
   "execution_count": 34,
   "metadata": {},
   "outputs": [],
   "source": [
    "# Set directory to save to\n",
    "savedir = r\"D:\\H-AMRdata\\highresMADs\\cool_disk\\a09375_cooled\"\n",
    "\n",
    "# Set name of file\n",
    "savefile = r\"a94c_vt_spacetime\"\n",
    "\n",
    "# Set range for calculation and step size\n",
    "istart = 0\n",
    "iend = 500\n",
    "istep = 1\n",
    "\n",
    "# Value of bsq/rho to define the disk\n",
    "diskcut=30\n",
    "\n",
    "dir = r'D:\\H-AMRdata\\highresMADs\\cool_disk\\a09375_cooled'\n",
    "\n",
    "\n",
    "os.chdir(dir)"
   ]
  },
  {
   "cell_type": "code",
   "execution_count": 35,
   "metadata": {},
   "outputs": [],
   "source": [
    "# Initialize arrays\n",
    "phibh_vt = []\n",
    "Phibh_vt = []\n",
    "t_vt = []\n",
    "fM_vt = []\n",
    "fEM_vt = []\n",
    "Sigma_vt = []\n",
    "Sigma_vt_2 = []"
   ]
  },
  {
   "cell_type": "markdown",
   "metadata": {},
   "source": [
    "# Begin calculating at every time step"
   ]
  },
  {
   "cell_type": "markdown",
   "metadata": {},
   "source": [
    "## Quantity vs. time and spacetime"
   ]
  },
  {
   "cell_type": "code",
   "execution_count": 14,
   "metadata": {},
   "outputs": [
    {
     "name": "stdout",
     "output_type": "stream",
     "text": [
      "0.0\n",
      "50.00348658160458\n",
      "100.0614274415324\n",
      "150.07133490263016\n",
      "200.05398267143295\n",
      "250.05236198466937\n",
      "300.03266823992874\n",
      "350.1505081438918\n",
      "400.04159265823523\n",
      "450.03091348044774\n",
      "500.126771607443\n"
     ]
    }
   ],
   "source": [
    "for i in range(istart, iend+1, istep):\n",
    "    os.chdir(dir) \n",
    "    #Run read-in of data\n",
    "    rblock_new(i)\n",
    "    rpar_new(i)\n",
    "    rgdump_griddata(dir)\n",
    "    rdump_griddata(dir,i)\n",
    "\n",
    "    misc_calc(calc_bu=1, calc_bsq=1, calc_eu=RESISTIVE, calc_esq=RESISTIVE)\n",
    "    psicalc(0,0)\n",
    "\n",
    "    ###Fluxes\n",
    "    calc_phibh()\n",
    "    calc_Mdot(diskcut) # Mdot, Mdot_disk\n",
    "    calc_Edot(diskcut)\n",
    "\n",
    "    fEtotEM = Edot_EMtot[0]\n",
    "    fM = Mdot[0]\n",
    "    PhiBH = phibh[0]\n",
    "    \n",
    "    #Phibh_rhor=PhiBH[iofr(rhor)]\n",
    "    Phibh_vt.append(PhiBH)\n",
    "    t_vt.append(t)\n",
    "    fEM_vt.append(fEtotEM)\n",
    "    fM_vt.append(fM[iofr(7)])\n",
    "    phibh_vt.append(PhiBH*np.sqrt(4*np.pi)/np.sqrt(fM[iofr(7)]))\n",
    "    \n",
    "    Sigma_vt.append((gdet*rho*uu[0]*r*_dx2*_dx3).sum(-1).sum(-1))\n",
    "    Sigma_vt_2.append((gdet*rho*uu[0]*_dx2*_dx3).sum(-1).sum(-1))\n",
    "    \n",
    "    print(t)"
   ]
  },
  {
   "cell_type": "markdown",
   "metadata": {},
   "source": [
    "### Spacetime diagrams"
   ]
  },
  {
   "cell_type": "code",
   "execution_count": 37,
   "metadata": {
    "scrolled": true,
    "tags": []
   },
   "outputs": [
    {
     "name": "stdout",
     "output_type": "stream",
     "text": [
      "0.0\n",
      "25.160934885709167\n",
      "50.173894807561034\n",
      "75.02797951195582\n",
      "100.06296174366234\n",
      "125.08135013322173\n",
      "150.0455655856818\n",
      "175.11491730477306\n",
      "200.02495781796154\n",
      "225.00355121182398\n",
      "250.031012824259\n",
      "275.0317765411844\n",
      "300.0760547454385\n",
      "325.09259040881585\n",
      "350.0758745175955\n",
      "375.04222953625276\n",
      "400.0797719443295\n",
      "425.0555408839979\n",
      "450.0913419123552\n",
      "475.0032348432859\n",
      "500.02958646494733\n",
      "525.0087786789259\n",
      "550.095778636449\n",
      "575.0934900248731\n",
      "600.0740365512736\n",
      "625.0903588290134\n",
      "650.0489399730589\n",
      "675.0451486920073\n",
      "700.016732499272\n",
      "725.025806965586\n",
      "750.0285437003093\n",
      "775.0851080730339\n",
      "800.0648175629653\n",
      "825.0462008466317\n",
      "850.0465480583817\n",
      "875.0932736172662\n",
      "900.0227259278007\n",
      "925.0869415450035\n",
      "950.0609367624847\n",
      "975.0018671032684\n",
      "1000.0609199439684\n",
      "1025.0234671662267\n",
      "1050.020769275916\n",
      "1075.0467399320096\n",
      "1100.077398917039\n",
      "1125.0581326429217\n",
      "1150.02696729664\n",
      "1175.0411291177493\n",
      "1200.0269055928304\n",
      "1225.0072955917997\n",
      "1250.0162743413255\n",
      "1275.0722411174986\n",
      "1300.0013934957822\n",
      "1325.010995368581\n",
      "1350.0151960537287\n",
      "1375.0020028838608\n",
      "1400.0040667318021\n",
      "1425.0074207357868\n",
      "1450.0104129233907\n",
      "1475.0130735519415\n",
      "1500.010718911113\n",
      "1525.0023812242978\n",
      "1550.0024491213348\n",
      "1575.0149175463685\n",
      "1600.003582203783\n",
      "1625.0088613777148\n",
      "1650.0130346147894\n",
      "1675.0134974497996\n",
      "1700.012460866228\n",
      "1725.0097342718198\n",
      "1750.0154772324188\n",
      "1775.010993862793\n",
      "1800.0068273660881\n",
      "1825.0162901386338\n",
      "1850.001997144369\n",
      "1875.0154900786285\n",
      "1900.0165626264818\n",
      "1925.0131726490122\n",
      "1950.0033901300917\n",
      "1975.0073325823676\n",
      "2000.00939116811\n",
      "2025.0167648336896\n",
      "2050.0143263916325\n",
      "2075.013954952604\n",
      "2100.001201206457\n",
      "2125.000828818612\n",
      "2150.0004740378054\n",
      "2175.0114495222215\n",
      "2200.002304072593\n",
      "2225.0069284588553\n",
      "2250.01062509596\n",
      "2275.0097620130996\n",
      "2300.0142441759613\n",
      "2325.000029242455\n",
      "2350.00281783165\n",
      "2375.012805228219\n",
      "2400.0097796644486\n",
      "2425.011166875825\n",
      "2450.0170954630057\n",
      "2475.0122552730068\n",
      "2500.01628304429\n",
      "2525.0171169170126\n",
      "2550.010283426307\n",
      "2575.010641006744\n",
      "2600.000337571716\n",
      "2625.0105817340764\n",
      "2650.0135565563737\n",
      "2675.0136501789707\n",
      "2700.008627933591\n",
      "2725.0130861505927\n",
      "2750.0054292356936\n",
      "2775.0107899063255\n",
      "2800.016069228126\n",
      "2825.0105206329486\n",
      "2850.015379894934\n",
      "2875.014246288463\n",
      "2900.0045244221014\n",
      "2925.0080022376465\n",
      "2950.0020214217348\n",
      "2975.0155121520734\n",
      "3000.0151038304653\n",
      "3025.0123334857535\n",
      "3050.003280994878\n",
      "3075.003980521932\n",
      "3100.014487954922\n",
      "3125.00840467539\n",
      "3150.0086476082797\n",
      "3175.005683888753\n",
      "3200.006987706861\n",
      "3225.0123649737425\n",
      "3250.012034176396\n",
      "3275.005185662247\n",
      "3300.000351070071\n",
      "3325.007688715691\n",
      "3350.0098063751707\n",
      "3375.000793578352\n",
      "3400.0058303677383\n",
      "3425.0134231415927\n",
      "3450.005936194548\n",
      "3475.011054712436\n",
      "3500.0045083070395\n",
      "3525.0048324362288\n",
      "3550.014705747782\n",
      "3575.0087813043515\n",
      "3600.01574744654\n",
      "3625.0071760135934\n",
      "3650.0059019051405\n",
      "3675.0016464921728\n",
      "3700.0114850989867\n",
      "3725.000775921943\n",
      "3750.011251388721\n",
      "3775.0047488372325\n",
      "3800.0087868690653\n",
      "3825.016750257523\n",
      "3850.0144006290193\n",
      "3875.0084734241877\n",
      "3900.0112010369285\n",
      "3925.015174386\n",
      "3950.009092560137\n",
      "3975.016237120007\n",
      "4000.0105993580873\n",
      "4025.004371585259\n",
      "4050.0044787265037\n",
      "4075.010617065024\n",
      "4100.016312661682\n",
      "4125.005688440796\n",
      "4150.014982419029\n",
      "4175.014879090038\n",
      "4200.000579270042\n",
      "4225.01657775379\n",
      "4250.0038616860065\n",
      "4275.008894753074\n",
      "4300.017028975816\n",
      "4325.002628734991\n",
      "4350.005965259597\n",
      "4375.003763974711\n",
      "4400.005150370053\n",
      "4425.008302274294\n",
      "4450.007655809225\n",
      "4475.013686222891\n",
      "4500.016529593143\n",
      "4525.014399444471\n",
      "4550.005501591469\n",
      "4575.016344369627\n",
      "4600.009992920312\n",
      "4625.012943476881\n",
      "4650.012377642708\n",
      "4675.009873504973\n",
      "4700.016039034233\n",
      "4725.013349964355\n",
      "4750.004313060306\n",
      "4775.001169094776\n",
      "4800.004005119966\n",
      "4825.015527930807\n",
      "4850.000147534191\n",
      "4875.013731892509\n",
      "4900.00457685001\n",
      "4925.012385586402\n",
      "4950.006890029102\n",
      "4975.005589442521\n",
      "5000.016618336611\n",
      "5025.012750768488\n",
      "5050.012759576766\n",
      "5075.007383516393\n",
      "5100.000348566335\n",
      "5125.012986284578\n",
      "5150.014376830369\n",
      "5175.012043800643\n",
      "5200.005370342255\n",
      "5225.004394023539\n",
      "5250.007294319563\n",
      "5275.016482440555\n",
      "5300.006378995308\n",
      "5325.00700321778\n",
      "5350.005607677137\n",
      "5375.006017567151\n",
      "5400.006793647327\n",
      "5425.008989554515\n",
      "5450.016363391635\n",
      "5475.01136477998\n",
      "5500.011106283184\n",
      "5525.003197076866\n",
      "5550.017162901535\n",
      "5575.006650554976\n",
      "5600.011792633192\n",
      "5625.000939369748\n",
      "5650.014295673665\n",
      "5675.004290679008\n",
      "5700.003764584243\n",
      "5725.005160222238\n",
      "5750.0007816751195\n",
      "5775.006149578209\n",
      "5800.006816385235\n",
      "5825.006487675649\n",
      "5850.011236105814\n",
      "5875.004075928707\n",
      "5900.007941393975\n",
      "5925.017093790641\n",
      "5950.016030720993\n",
      "5975.007754083663\n",
      "6000.014411699412\n",
      "6025.009968794862\n",
      "6050.007622485345\n",
      "6075.011340347707\n",
      "6100.005857923112\n",
      "6125.000192664683\n",
      "6150.0108294391075\n",
      "6175.011044871018\n",
      "6200.00947380589\n",
      "6225.002280973273\n",
      "6250.011006035909\n",
      "6275.007331970029\n",
      "6300.0100090145415\n",
      "6325.016993136733\n",
      "6350.00321208236\n",
      "6375.011011364552\n",
      "6400.000164240238\n",
      "6425.012444088083\n",
      "6450.011330546707\n",
      "6475.003117807785\n",
      "6500.004226018101\n",
      "6525.004922294189\n",
      "6550.006867219246\n",
      "6575.010758874098\n",
      "6600.0015969736505\n",
      "6625.006598471905\n",
      "6650.013530887796\n",
      "6675.01614225171\n",
      "6700.006824491882\n",
      "6725.004719087558\n",
      "6750.013008763378\n",
      "6775.010790329383\n",
      "6800.008445901917\n",
      "6825.003054040844\n",
      "6850.000070062355\n",
      "6875.004071069299\n",
      "6900.015944445213\n",
      "6925.015503294694\n",
      "6950.001673788634\n",
      "6975.011950551549\n",
      "7000.00292324312\n",
      "7025.005975944748\n",
      "7050.002117036519\n",
      "7075.001548224663\n",
      "7100.006544598362\n",
      "7125.001105579151\n",
      "7150.013575290024\n",
      "7175.013078353082\n",
      "7200.017017476462\n",
      "7225.005050716567\n",
      "7250.016445316372\n",
      "7275.000649405366\n",
      "7300.005000293709\n",
      "7325.015024820436\n",
      "7350.008734154121\n",
      "7375.001004804129\n",
      "7400.003432110051\n",
      "7425.000428255567\n",
      "7450.016096298316\n",
      "7475.001302307363\n",
      "7500.004270543776\n",
      "7525.008149124121\n",
      "7550.001109895248\n",
      "7575.01127355219\n",
      "7600.015718498113\n",
      "7625.002900042082\n",
      "7650.001442868511\n",
      "7675.003630542322\n",
      "7700.006223001014\n",
      "7725.014944001917\n",
      "7750.010320966823\n",
      "7775.003401863727\n",
      "7800.0010857988345\n",
      "7825.00024976983\n",
      "7850.007117479312\n",
      "7875.0071156756085\n",
      "7900.016999371364\n",
      "7925.001971916111\n",
      "7950.005721309868\n",
      "7975.011690794525\n",
      "8000.012772777385\n",
      "8025.011999528896\n",
      "8050.008414929873\n",
      "8075.002218932045\n",
      "8100.0159194151165\n",
      "8125.002668990029\n",
      "8150.004434804312\n",
      "8175.000353566898\n",
      "8200.004967352323\n",
      "8225.002787852667\n",
      "8250.006973722753\n",
      "8275.009569192052\n",
      "8300.008340986129\n",
      "8325.003689377616\n",
      "8350.002030276613\n",
      "8375.011037862967\n",
      "8400.002447038989\n",
      "8425.005083653217\n",
      "8450.01629634343\n",
      "8475.003391082138\n",
      "8500.012344451623\n",
      "8525.007154055698\n",
      "8550.010047125174\n",
      "8575.013351198124\n",
      "8600.006025740104\n",
      "8625.00111880351\n",
      "8650.011001832876\n",
      "8675.011297082334\n",
      "8700.007411326751\n",
      "8725.006913267925\n",
      "8750.006346928187\n",
      "8775.014876838673\n",
      "8800.008891188496\n",
      "8825.012510797722\n",
      "8850.014162147738\n",
      "8875.007336995433\n",
      "8900.01603625426\n",
      "8925.007902100993\n",
      "8950.009142742738\n",
      "8975.006487360988\n",
      "9000.00173607788\n",
      "9025.00581619434\n",
      "9050.000215188134\n",
      "9075.008099918801\n",
      "9100.013145568688\n",
      "9125.008015852245\n",
      "9150.008705912951\n",
      "9175.013991846554\n",
      "9200.00895872349\n",
      "9225.003728760154\n",
      "9250.014098103135\n",
      "9275.00065038552\n",
      "9300.00295639219\n",
      "9325.004419804416\n",
      "9350.002505972245\n",
      "9375.015828895392\n",
      "9400.00220696421\n",
      "9425.002681073496\n",
      "9450.0161658249\n",
      "9475.014350769798\n",
      "9500.009375340955\n",
      "9525.001215014581\n",
      "9550.007304894529\n",
      "9575.012010636454\n",
      "9600.000738959823\n",
      "9625.006994867499\n",
      "9650.001578708672\n",
      "9675.016380443887\n",
      "9700.013050205514\n",
      "9725.0031497504\n",
      "9750.005184740103\n",
      "9775.01652906391\n",
      "9800.000010938362\n",
      "9825.002523260824\n",
      "9850.008773310494\n",
      "9875.01167396285\n",
      "9900.01186788311\n",
      "9925.015704921094\n",
      "9950.001781706964\n",
      "9975.005149912688\n",
      "10000.013443585249\n",
      "10025.004478188825\n",
      "10050.013634095894\n",
      "10075.016671585752\n",
      "10100.010747816912\n",
      "10125.005161914514\n",
      "10150.007919965912\n",
      "10175.01214904245\n",
      "10200.016282581417\n",
      "10225.00041151063\n",
      "10250.000996504838\n",
      "10275.01163031696\n",
      "10300.016531396515\n",
      "10325.012153506228\n",
      "10350.0120383049\n",
      "10375.005491132326\n",
      "10400.014144267177\n",
      "10425.001508082803\n",
      "10450.016617513811\n",
      "10475.015508369303\n",
      "10500.00441868902\n",
      "10525.011102819353\n",
      "10550.000492444475\n",
      "10575.006973339494\n",
      "10600.000115845141\n",
      "10625.008825133596\n",
      "10650.006544677017\n",
      "10675.01248074019\n",
      "10700.016909142578\n",
      "10725.008469039205\n",
      "10750.011457947363\n",
      "10775.008311215272\n",
      "10800.010518514024\n",
      "10825.003648859154\n",
      "10850.001653822836\n",
      "10875.007247357613\n",
      "10900.007724119785\n",
      "10925.005750726206\n",
      "10950.004487551822\n",
      "10975.003153079586\n",
      "11000.007673816985\n",
      "11025.001946924822\n",
      "11050.005267270873\n",
      "11075.011153080117\n",
      "11100.01690869994\n",
      "11125.013451839184\n",
      "11150.00435763922\n",
      "11175.01186539295\n",
      "11200.013626048914\n",
      "11225.016702918843\n",
      "11250.009467948832\n",
      "11275.011815310865\n",
      "11300.00101985103\n",
      "11325.011285693447\n",
      "11350.005127311455\n",
      "11375.004829103174\n",
      "11400.013836824137\n",
      "11425.00856480007\n",
      "11450.013800716097\n",
      "11475.003990509722\n",
      "11500.014177880008\n",
      "11525.005274370875\n",
      "11550.011130840769\n",
      "11575.004769180701\n",
      "11600.005953890673\n",
      "11625.010068118396\n",
      "11650.00276527029\n",
      "11675.008013536097\n",
      "11700.004030501907\n",
      "11725.001439677237\n",
      "11750.016692324187\n",
      "11775.003901083996\n",
      "11800.009929156071\n",
      "11825.007290085685\n",
      "11850.009751505148\n",
      "11875.007245211258\n",
      "11900.000678189695\n",
      "11925.015348248151\n",
      "11950.005719692977\n",
      "11975.010856216064\n",
      "12000.004996619355\n",
      "12025.00711562742\n",
      "12050.00940980664\n",
      "12075.007813486141\n"
     ]
    },
    {
     "name": "stderr",
     "output_type": "stream",
     "text": [
      "C:\\Users\\Beverly\\Documents\\HAMR_macros\\pp.py:35: RuntimeWarning: invalid value encountered in sqrt\n",
      "  from distutils.dir_util import copy_tree\n",
      "C:\\Users\\Beverly\\Documents\\HAMR_macros\\pp.py:54: RuntimeWarning: invalid value encountered in sqrt\n",
      "  if mpl.get_backend() != \"module://ipykernel.pylab.backend_inline\":\n"
     ]
    },
    {
     "name": "stdout",
     "output_type": "stream",
     "text": [
      "12100.002198097927\n",
      "12125.011105649222\n",
      "12150.001870580285\n",
      "12175.007551247842\n",
      "12200.001286809553\n",
      "12225.01559523855\n",
      "12250.008269897398\n",
      "12275.0055059412\n",
      "12300.011039150602\n",
      "12325.013808678495\n",
      "12350.00920607494\n",
      "12375.00764036493\n",
      "12400.001428635891\n",
      "12425.002959668964\n",
      "12450.01198445205\n",
      "12475.01348261377\n"
     ]
    }
   ],
   "source": [
    "#Area = metricGR[\"gdet_Phy\"] * metricGR[\"_dx2\"]\n",
    "r_cells = len(r[0,:,ny//2,0])\n",
    "\n",
    "time = np.zeros((iend - istart) // istep)\n",
    "Phi_st = np.zeros(((iend - istart) // istep, r_cells), dtype=float)\n",
    "Mdot_st = np.zeros(((iend - istart) // istep, r_cells), dtype=float)\n",
    "Sig_st = np.zeros(((iend - istart) // istep, r_cells), dtype=float)\n",
    "Sig_st_2 = np.zeros(((iend - istart) // istep, r_cells), dtype=float)\n",
    "\n",
    "for i in range(istart, iend, istep):\n",
    "    \n",
    "    #Run read-in of data\n",
    "    rblock_new(i)\n",
    "    rpar_new(i)\n",
    "    rgdump_griddata(dir)\n",
    "    rdump_griddata(dir,i)\n",
    "\n",
    "    misc_calc(calc_bu=1, calc_bsq=1, calc_eu=RESISTIVE, calc_esq=RESISTIVE)\n",
    "    psicalc(0,0)\n",
    "\n",
    "    ###Fluxes\n",
    "    calc_phibh()\n",
    "    calc_Mdot(diskcut) # Mdot, Mdot_disk\n",
    "    calc_Edot(diskcut)\n",
    "\n",
    "    fEtotEM = Edot_EMtot[0]\n",
    "    fM = Mdot[0]\n",
    "    PhiBH = phibh[0]\n",
    "    \n",
    "    #Phibh_rhor=PhiBH[iofr(rhor)]\n",
    "    Phibh_vt.append(PhiBH)\n",
    "    t_vt.append(t)\n",
    "    fEM_vt.append(fEtotEM)\n",
    "    fM_vt.append(fM[iofr(7)])\n",
    "    phibh_vt.append(PhiBH*np.sqrt(4*np.pi)/np.sqrt(fM[iofr(7)]))\n",
    "    \n",
    "    Sigma_vt.append((gdet*rho*uu[0]*r*_dx2*_dx3).sum(-1).sum(-1))\n",
    "    Sigma_vt_2.append((gdet*rho*uu[0]*_dx2*_dx3).sum(-1).sum(-1))\n",
    "    \n",
    "    print(t)\n",
    "    \n",
    "    #Phifield = dict(np.load(rep + \"PhiAve/Phifield\" + str(i) + \".npz\", mmap_mode=\"r\"))\n",
    "\n",
    "    #time[(i - istart) // istep] = i * 10\n",
    "    time[i] = t\n",
    "    #Aphi = Tls.Calc_Aphi(\n",
    "    #    Phifield[\"Bx1\"] / np.sqrt(metricGR[\"gcov\"][1, 1]),\n",
    "    #    metricGR[\"gdet\"] * metricGR[\"_dx2\"],\n",
    "    #    len(r),\n",
    "    #    len(th),\n",
    "    #)\n",
    "    \n",
    "    fM_st = fM\n",
    "    phibh_st = phibh[0]*np.sqrt(4*np.pi)/np.sqrt(fM[iofr(7)])\n",
    "    Sigma_st = (gdet*rho*uu[0]*r*_dx2*_dx3).sum(-1).sum(-1)\n",
    "    Sigma_st_2 = (gdet*rho*uu[0]*_dx2*_dx3).sum(-1).sum(-1)\n",
    "    \n",
    "    #Psi[(i - istart) // istep, :] = Aphi[:, len(th) // 2]\n",
    "    Phi_st[(i - istart) // istep, :] = phibh[0]\n",
    "    Mdot_st[(i - istart) // istep, :] = fM_st\n",
    "    Sig_st[(i - istart) // istep, :] = Sigma_st\n",
    "    Sig_st_2[(i - istart) // istep, :] = Sigma_st_2"
   ]
  },
  {
   "cell_type": "markdown",
   "metadata": {},
   "source": []
  },
  {
   "cell_type": "code",
   "execution_count": null,
   "metadata": {},
   "outputs": [],
   "source": []
  },
  {
   "cell_type": "code",
   "execution_count": null,
   "metadata": {},
   "outputs": [],
   "source": []
  },
  {
   "cell_type": "markdown",
   "metadata": {},
   "source": [
    "## Save arrays to the dictionaries and save all to a file"
   ]
  },
  {
   "cell_type": "code",
   "execution_count": null,
   "metadata": {},
   "outputs": [],
   "source": [
    "spin_vt[\"phiBH\"] = np.array(phibh_vt)\n",
    "spin_vt[\"PhiBH\"] = np.array(Phibh_vt)\n",
    "spin_vt[\"t\"] = np.array(t_vt)\n",
    "spin_vt[\"fM\"] = np.array(fM_vt)\n",
    "spin_vt[\"fEM\"] = np.array(fEM_vt)\n",
    "spin_vt[\"Sigma\"] = np.array(Sigma_vt)\n",
    "spin_vt[\"Sigma_2\"] = np.array(Sigma_vt_2)"
   ]
  },
  {
   "cell_type": "code",
   "execution_count": null,
   "metadata": {},
   "outputs": [],
   "source": [
    "# Check that data are saved to the right directory\n",
    "print(savedir + \"/\" + savefile)\n",
    "print(a)"
   ]
  },
  {
   "cell_type": "code",
   "execution_count": null,
   "metadata": {},
   "outputs": [],
   "source": [
    "fullpath = savedir + \"/\" + savefile\n",
    "np.savez(fullpath % i, **spin_vt)"
   ]
  },
  {
   "cell_type": "markdown",
   "metadata": {},
   "source": [
    "# Plot spacetime diagrams"
   ]
  },
  {
   "cell_type": "markdown",
   "metadata": {},
   "source": [
    "### $\\dot{M}$"
   ]
  },
  {
   "cell_type": "code",
   "execution_count": 40,
   "metadata": {},
   "outputs": [
    {
     "name": "stderr",
     "output_type": "stream",
     "text": [
      "C:\\Users\\Beverly\\Documents\\HAMR_macros\\pp.py:17: UserWarning: cmr10 font should ideally be used with mathtext, set axes.formatter.use_mathtext to True\n",
      "  from distutils.core import setup\n",
      "C:\\Users\\Beverly\\Documents\\HAMR_macros\\pp.py:30: UserWarning: cmr10 font should ideally be used with mathtext, set axes.formatter.use_mathtext to True\n",
      "  import pdb\n"
     ]
    },
    {
     "data": {
      "text/plain": [
       "Text(0.5, 0, '$R[r_g]$')"
      ]
     },
     "execution_count": 40,
     "metadata": {},
     "output_type": "execute_result"
    },
    {
     "data": {
      "image/png": "[encoded data removed]",
      "text/plain": [
       "<Figure size 720x720 with 2 Axes>"
      ]
     },
     "metadata": {
      "needs_background": "light"
     },
     "output_type": "display_data"
    }
   ],
   "source": [
    "# plt.semilogx(r,Psi[150,:])\n",
    "Nt_1 = 0\n",
    "# Nt_2 = 500\n",
    "Nt_2 = time.max()\n",
    "\n",
    "N_Dt = 5\n",
    "# print(t.max())\n",
    "N_r = r_cells #.max()\n",
    "\n",
    "# Psi_0 = Psi[:, 0]\n",
    "#Psi_n = Tls.moving_average_2d(Psi, N_Dt)\n",
    "Mdot_n = Mdot_st\n",
    "\n",
    "#v = np.nanmax(Psi_n[Nt_1:Nt_2, :N_r]) / 10\n",
    "\n",
    "plt.figure(figsize=(10, 10))\n",
    "ax = plt.gca()\n",
    "\n",
    "plt.contourf(\n",
    "    r[0,:,ny//2,0],\n",
    "    time,\n",
    "    Mdot_n[:, :],\n",
    "    32,\n",
    "    cmap=\"RdBu_r\",\n",
    ")\n",
    "\n",
    "# plt.plot(r,30*r**(1.1),lw=1.2,ls=':',color='black')\n",
    "#plt.plot(r, 55 * r ** (1.1), lw=2, ls=\":\", color=\"black\")\n",
    "\n",
    "clb1 = plt.colorbar(pad=0)\n",
    "clb1.ax.set_title(r\"$\\dot{M}$\", fontsize=18)\n",
    "plt.xscale(\"log\")\n",
    "plt.yscale(\"log\")\n",
    "plt.xlim(rhor, 1e3)\n",
    "plt.ylim(1e3, np.max(time))\n",
    "#plt.ylim(500, time[Nt_2])\n",
    "\n",
    "plt.ylabel(r\"$t[\\frac{r_g}{c}]$\")\n",
    "plt.xlabel(r\"$R[r_g]$\")"
   ]
  },
  {
   "cell_type": "markdown",
   "metadata": {},
   "source": [
    "### $\\Phi_{BH}$"
   ]
  },
  {
   "cell_type": "code",
   "execution_count": 74,
   "metadata": {},
   "outputs": [
    {
     "name": "stdout",
     "output_type": "stream",
     "text": [
      "12475.01348261377\n",
      "0.0\n"
     ]
    },
    {
     "name": "stderr",
     "output_type": "stream",
     "text": [
      "C:\\Users\\Beverly\\Documents\\HAMR_macros\\pp.py:17: UserWarning: cmr10 font should ideally be used with mathtext, set axes.formatter.use_mathtext to True\n",
      "  from distutils.core import setup\n",
      "C:\\Users\\Beverly\\Documents\\HAMR_macros\\pp.py:38: UserWarning: cmr10 font should ideally be used with mathtext, set axes.formatter.use_mathtext to True\n",
      "  mpl.rcParams['text.latex.preamble'] = [r\"\\usepackage{amssymb,amsmath}\"]\n",
      "C:\\Users\\Beverly\\Documents\\HAMR_macros\\pp.py:50: UserWarning: cmr10 font should ideally be used with mathtext, set axes.formatter.use_mathtext to True\n",
      "  mpl.rcParams['font.family'] = 'serif'\n"
     ]
    },
    {
     "data": {
      "text/plain": [
       "[<matplotlib.lines.Line2D at 0x1d95708e408>]"
      ]
     },
     "execution_count": 74,
     "metadata": {},
     "output_type": "execute_result"
    },
    {
     "data": {
      "image/png": "[encoded data removed]",
      "text/plain": [
       "<Figure size 720x720 with 2 Axes>"
      ]
     },
     "metadata": {
      "needs_background": "light"
     },
     "output_type": "display_data"
    },
    {
     "data": {
      "image/png": "[encoded data removed]",
      "text/plain": [
       "<Figure size 432x288 with 1 Axes>"
      ]
     },
     "metadata": {
      "needs_background": "light"
     },
     "output_type": "display_data"
    }
   ],
   "source": [
    "# plt.semilogx(r,Psi[150,:])\n",
    "Nt_1 = 0\n",
    "# Nt_2 = 500\n",
    "Nt_2 = time.max()\n",
    "\n",
    "N_Dt = 5\n",
    "print(t.max())\n",
    "N_r = r_cells #.max()\n",
    "\n",
    "# Psi_0 = Psi[:, 0]\n",
    "#Psi_n = Tls.moving_average_2d(Psi, N_Dt)\n",
    "Phi_n = Phi_st\n",
    "print(time[0])\n",
    "#v = np.nanmax(Psi_n[Nt_1:Nt_2, :N_r]) / 10\n",
    "\n",
    "plt.figure(figsize=(10, 10))\n",
    "ax = plt.gca()\n",
    "\n",
    "plt.contourf(\n",
    "    r[0,:,ny//2,0],\n",
    "    time,\n",
    "   (Phi_n[:, :]),\n",
    "    32,\n",
    "    cmap=\"turbo\",\n",
    ")\n",
    "\n",
    "#plt.contourf(\n",
    "#    r[:N_r],\n",
    "#    t[Nt_1:Nt_2],\n",
    "#    Psi_n[Nt_1:Nt_2, :N_r].clip(max=v, min=-v),\n",
    "#    32,\n",
    "#    cmap=\"RdBu_r\",\n",
    "#)\n",
    "\n",
    "# plt.plot(r,30*r**(1.1),lw=1.2,ls=':',color='black')\n",
    "#plt.plot(r, 55 * r ** (1.1), lw=2, ls=\":\", color=\"black\")\n",
    "\n",
    "clb1 = plt.colorbar(pad=0)\n",
    "clb1.ax.set_title(r\"$\\Phi$\", fontsize=18)\n",
    "plt.xscale(\"log\")\n",
    "plt.yscale(\"log\")\n",
    "plt.xlim(rhor, 1e3)\n",
    "plt.ylim(time[1]/10, np.max(time))\n",
    "#plt.ylim(500, time[Nt_2])\n",
    "\n",
    "plt.ylabel(r\"$t[\\frac{r_g}{c}]$\")\n",
    "plt.xlabel(r\"$R[r_g]$\")\n",
    "\n",
    "plt.figure()\n",
    "plt.semilogx(r[0,:,ny//2,0], Phi_n[len(time)-1,:])"
   ]
  },
  {
   "cell_type": "markdown",
   "metadata": {},
   "source": [
    "### $\\phi_{BH}$"
   ]
  },
  {
   "cell_type": "code",
   "execution_count": null,
   "metadata": {},
   "outputs": [],
   "source": [
    "# plt.semilogx(r,Psi[150,:])\n",
    "Nt_1 = 0\n",
    "# Nt_2 = 500\n",
    "Nt_2 = time.max()\n",
    "\n",
    "N_Dt = 5\n",
    "# print(t.max())\n",
    "N_r = r_cells #.max()\n",
    "\n",
    "# Psi_0 = Psi[:, 0]\n",
    "#Psi_n = Tls.moving_average_2d(Psi, N_Dt)\n",
    "Phi_n = Phi_st\n",
    "\n",
    "#v = np.nanmax(Psi_n[Nt_1:Nt_2, :N_r]) / 10\n",
    "\n",
    "plt.figure(figsize=(10, 10))\n",
    "ax = plt.gca()\n",
    "\n",
    "plt.contourf(\n",
    "    r[0,:,ny//2,0],\n",
    "    time,\n",
    "    Phi_n[:, :],\n",
    "    32,\n",
    "    cmap=\"RdBu_r\",\n",
    ")\n",
    "\n",
    "clb1 = plt.colorbar(pad=0)\n",
    "clb1.ax.set_title(r\"$\\Phi$\", fontsize=18)\n",
    "plt.xscale(\"log\")\n",
    "plt.yscale(\"log\")\n",
    "plt.xlim(rhor, 1e3)\n",
    "plt.ylim(time[1], np.max(time))\n",
    "#plt.ylim(500, time[Nt_2])\n",
    "\n",
    "plt.ylabel(r\"$t[\\frac{r_g}{c}]$\")\n",
    "plt.xlabel(r\"$R[r_g]$\")"
   ]
  },
  {
   "cell_type": "markdown",
   "metadata": {},
   "source": [
    "### $\\eta_{EM}$"
   ]
  },
  {
   "cell_type": "code",
   "execution_count": null,
   "metadata": {},
   "outputs": [],
   "source": [
    "# plt.semilogx(r,Psi[150,:])\n",
    "Nt_1 = 0\n",
    "# Nt_2 = 500\n",
    "Nt_2 = time.max()\n",
    "\n",
    "N_Dt = 5\n",
    "# print(t.max())\n",
    "N_r = r_cells #.max()\n",
    "\n",
    "# Psi_0 = Psi[:, 0]\n",
    "#Psi_n = Tls.moving_average_2d(Psi, N_Dt)\n",
    "Phi_n = Phi_st\n",
    "\n",
    "#v = np.nanmax(Psi_n[Nt_1:Nt_2, :N_r]) / 10\n",
    "\n",
    "plt.figure(figsize=(10, 10))\n",
    "ax = plt.gca()\n",
    "\n",
    "plt.contourf(\n",
    "    r[0,:,ny//2,0],\n",
    "    time,\n",
    "    Phi_n[:, :],\n",
    "    32,\n",
    "    cmap=\"RdBu_r\",\n",
    ")\n",
    "\n",
    "clb1 = plt.colorbar(pad=0)\n",
    "clb1.ax.set_title(r\"$\\Phi$\", fontsize=18)\n",
    "plt.xscale(\"log\")\n",
    "plt.yscale(\"log\")\n",
    "plt.xlim(rhor, 1e3)\n",
    "plt.ylim(time[1], np.max(time))\n",
    "#plt.ylim(500, time[Nt_2])\n",
    "\n",
    "plt.ylabel(r\"$t[\\frac{r_g}{c}]$\")\n",
    "plt.xlabel(r\"$R[r_g]$\")"
   ]
  },
  {
   "cell_type": "markdown",
   "metadata": {},
   "source": [
    "### $\\Sigma_1$"
   ]
  },
  {
   "cell_type": "code",
   "execution_count": 75,
   "metadata": {},
   "outputs": [
    {
     "name": "stderr",
     "output_type": "stream",
     "text": [
      "C:\\Users\\Beverly\\Documents\\HAMR_macros\\pp.py:17: UserWarning: cmr10 font should ideally be used with mathtext, set axes.formatter.use_mathtext to True\n",
      "  from distutils.core import setup\n",
      "C:\\Users\\Beverly\\Documents\\HAMR_macros\\pp.py:27: UserWarning: cmr10 font should ideally be used with mathtext, set axes.formatter.use_mathtext to True\n",
      "  \n"
     ]
    },
    {
     "data": {
      "text/plain": [
       "Text(0.5, 0, '$R[r_g]$')"
      ]
     },
     "execution_count": 75,
     "metadata": {},
     "output_type": "execute_result"
    },
    {
     "data": {
      "image/png": "[encoded data removed]",
      "text/plain": [
       "<Figure size 720x720 with 2 Axes>"
      ]
     },
     "metadata": {
      "needs_background": "light"
     },
     "output_type": "display_data"
    }
   ],
   "source": [
    "# plt.semilogx(r,Psi[150,:])\n",
    "Nt_1 = 0\n",
    "# Nt_2 = 500\n",
    "Nt_2 = time.max()\n",
    "\n",
    "N_Dt = 5\n",
    "# print(t.max())\n",
    "N_r = r_cells #.max()\n",
    "\n",
    "# Psi_0 = Psi[:, 0]\n",
    "#Psi_n = Tls.moving_average_2d(Psi, N_Dt)\n",
    "Sig_1_n = Sig_st\n",
    "\n",
    "#v = np.nanmax(Psi_n[Nt_1:Nt_2, :N_r]) / 10\n",
    "\n",
    "plt.figure(figsize=(10, 10))\n",
    "ax = plt.gca()\n",
    "\n",
    "plt.contourf(\n",
    "    r[0,:,ny//2,0],\n",
    "    time,\n",
    "    np.log10(Sig_1_n[:, :]),\n",
    "    32,\n",
    "    cmap=\"magma\",\n",
    ")\n",
    "\n",
    "clb1 = plt.colorbar(pad=0)\n",
    "clb1.ax.set_title(r\"$\\Sigma_1$\", fontsize=18)\n",
    "plt.xscale(\"log\")\n",
    "plt.yscale(\"log\")\n",
    "plt.xlim(rhor, 2e3)\n",
    "plt.ylim(time[1], np.max(time))\n",
    "#plt.ylim(500, time[Nt_2])\n",
    "\n",
    "plt.ylabel(r\"$t[\\frac{r_g}{c}]$\")\n",
    "plt.xlabel(r\"$R[r_g]$\")"
   ]
  },
  {
   "cell_type": "markdown",
   "metadata": {},
   "source": [
    "### $\\Sigma_2$"
   ]
  },
  {
   "cell_type": "code",
   "execution_count": 77,
   "metadata": {},
   "outputs": [
    {
     "name": "stdout",
     "output_type": "stream",
     "text": [
      "(500,)\n",
      "(384,)\n",
      "(500, 384)\n"
     ]
    },
    {
     "name": "stderr",
     "output_type": "stream",
     "text": [
      "C:\\Users\\Beverly\\Documents\\HAMR_macros\\pp.py:20: UserWarning: cmr10 font should ideally be used with mathtext, set axes.formatter.use_mathtext to True\n",
      "  \n",
      "C:\\Users\\Beverly\\Documents\\HAMR_macros\\pp.py:30: UserWarning: cmr10 font should ideally be used with mathtext, set axes.formatter.use_mathtext to True\n",
      "  import pdb\n"
     ]
    },
    {
     "data": {
      "text/plain": [
       "Text(0.5, 0, '$R[r_g]$')"
      ]
     },
     "execution_count": 77,
     "metadata": {},
     "output_type": "execute_result"
    },
    {
     "data": {
      "image/png": "[encoded data removed]",
      "text/plain": [
       "<Figure size 720x720 with 2 Axes>"
      ]
     },
     "metadata": {
      "needs_background": "light"
     },
     "output_type": "display_data"
    }
   ],
   "source": [
    "# plt.semilogx(r,Psi[150,:])\n",
    "Nt_1 = 0\n",
    "# Nt_2 = 500\n",
    "Nt_2 = time.max()\n",
    "\n",
    "N_Dt = 1\n",
    "print(time.shape)\n",
    "print(r[0,:,ny//2,0].shape)\n",
    "print(Sig_2_n.shape)\n",
    "# print(t.max())\n",
    "N_r = r_cells #.max()\n",
    "\n",
    "# Psi_0 = Psi[:, 0]\n",
    "#Psi_n = Tls.moving_average_2d(Psi, N_Dt)\n",
    "Sig_2_n = Sig_st_2\n",
    "\n",
    "#v = np.nanmax(Psi_n[Nt_1:Nt_2, :N_r]) / 10\n",
    "\n",
    "plt.figure(figsize=(10, 10))\n",
    "ax = plt.gca()\n",
    "\n",
    "plt.contourf(\n",
    "    r[0,:,ny//2,0],\n",
    "    time,\n",
    "    np.log10(Sig_2_n[:, :]),\n",
    "    32,\n",
    "    cmap=\"magma\",\n",
    ")\n",
    "\n",
    "clb1 = plt.colorbar(pad=0)\n",
    "clb1.ax.set_title(r\"$\\Phi$\", fontsize=18)\n",
    "plt.xscale(\"log\")\n",
    "plt.yscale(\"log\")\n",
    "plt.xlim(rhor, 2e3)\n",
    "plt.ylim(time[1], np.max(time))\n",
    "#plt.ylim(500, time[Nt_2])\n",
    "\n",
    "plt.ylabel(r\"$t[\\frac{r_g}{c}]$\")\n",
    "plt.xlabel(r\"$R[r_g]$\")"
   ]
  },
  {
   "cell_type": "markdown",
   "metadata": {},
   "source": [
    "# Plot quantity vs. time"
   ]
  },
  {
   "cell_type": "code",
   "execution_count": null,
   "metadata": {},
   "outputs": [],
   "source": [
    "### Load files\n",
    "\n",
    "# Uncooled\n",
    "an9_vtime = np.load()\n",
    "an5_vtime = np.load()\n",
    "a0_vtime = np.load()\n",
    "a2_vtime = np.load()\n",
    "a3_vtime = np.load()\n",
    "a5_vtime = np.load()\n",
    "\n",
    "# cooled\n",
    "an9c_vtime = np.load()\n",
    "an5c_vtime = np.load()\n",
    "a0c_vtime = np.load()\n",
    "a2c_vtime = np.load()\n",
    "a3c_vtime = np.load()\n",
    "a5c_vtime = np.load()\n",
    "a94c_vtime = np.load()"
   ]
  },
  {
   "cell_type": "markdown",
   "metadata": {
    "toc-hr-collapsed": true
   },
   "source": [
    "## All spins, $h/r=0.1$"
   ]
  },
  {
   "cell_type": "markdown",
   "metadata": {},
   "source": [
    "### $\\dot{M}$"
   ]
  },
  {
   "cell_type": "code",
   "execution_count": null,
   "metadata": {},
   "outputs": [],
   "source": [
    "plt.figure(figsize=(15,3))\n",
    "plt.plot(a0c_vtime[\"t\"], a0c_vtime[\"fM\"],label=\"0.2\", alpha=0.5)\n",
    "plt.plot(a2c_vtime[\"t\"], a2c_vtime[\"fM\"],label=\"0.2\", alpha=0.5)\n",
    "plt.plot(a3c_vtime[\"t\"], a3c_vtime[\"fM\"],label=\"0.3\", alpha=0.5)\n",
    "plt.plot(a5c_vtime[\"t\"], a5c_vtime[\"fM\"],label=\"0.5\", alpha=0.5)\n",
    "plt.plot(a94c_vtime[\"t\"], a94c_vtime[\"fM\"],label=\"0.9375\", color=\"red\", alpha=0.5)\n",
    "\n",
    "plt.ylabel(r'$\\dot{M}$')\n",
    "plt.xlabel(r'$t (r_g/c)$')\n",
    "plt.title(r\"$h/r=0.1$\",fontsize=17)\n",
    "plt.ylim(-5,105)\n",
    "plt.legend(fontsize=12)\n",
    "plt.grid()"
   ]
  },
  {
   "cell_type": "markdown",
   "metadata": {},
   "source": [
    "### $\\Phi_{BH}$"
   ]
  },
  {
   "cell_type": "code",
   "execution_count": null,
   "metadata": {},
   "outputs": [],
   "source": [
    "plt.figure(figsize=(15,3))\n",
    "plt.plot(a0c_vtime[\"t\"], a0c_vtime[\"PhiBH\"],label=\"0.2\", alpha=0.5)\n",
    "plt.plot(a2c_vtime[\"t\"], a2c_vtime[\"PhiBH\"],label=\"0.2\", alpha=0.5)\n",
    "plt.plot(a3c_vtime[\"t\"], a3c_vtime[\"PhiBH\"],label=\"0.3\", alpha=0.5)\n",
    "plt.plot(a5c_vtime[\"t\"], a5c_vtime[\"PhiBH\"],label=\"0.5\", alpha=0.5)\n",
    "plt.plot(a94c_vtime[\"t\"], a94c_vtime[\"PhiBH\"],label=\"0.9375\", color=\"red\", alpha=0.5)\n",
    "\n",
    "plt.ylabel(r'$\\Phi_{BH}$')\n",
    "plt.xlabel(r'$t (r_g/c)$')\n",
    "plt.title(r\"$h/r=0.1$\",fontsize=17)\n",
    "plt.ylim(-5,105)\n",
    "plt.legend(fontsize=12)\n",
    "plt.grid()"
   ]
  },
  {
   "cell_type": "markdown",
   "metadata": {},
   "source": [
    "### $\\phi_{BH}$"
   ]
  },
  {
   "cell_type": "code",
   "execution_count": null,
   "metadata": {},
   "outputs": [],
   "source": [
    "plt.figure(figsize=(15,3))\n",
    "plt.plot(a0c_vtime[\"t\"], a0c_vtime[\"phiBH\"],label=\"0.0\", alpha=0.5)\n",
    "plt.plot(a2c_vtime[\"t\"], a2c_vtime[\"phiBH\"],label=\"0.2\", alpha=0.5)\n",
    "plt.plot(a3c_vtime[\"t\"], a3c_vtime[\"phiBH\"],label=\"0.3\", alpha=0.5)\n",
    "plt.plot(a5c_vtime[\"t\"], a5c_vtime[\"phiBH\"],label=\"0.5\", alpha=0.5)\n",
    "plt.plot(a94c_vtime[\"t\"], a94c_vtime[\"phiBH\"],label=\"0.9375\", color=\"red\", alpha=0.5)\n",
    "\n",
    "plt.ylabel(r'$\\phi_{BH}$')\n",
    "plt.xlabel(r'$t (r_g/c)$')\n",
    "plt.title(r\"$h/r=0.1$\",fontsize=17)\n",
    "plt.ylim(-5,105)\n",
    "plt.legend(fontsize=12)\n",
    "plt.grid()"
   ]
  },
  {
   "cell_type": "markdown",
   "metadata": {},
   "source": [
    "### $\\eta_{EM}$"
   ]
  },
  {
   "cell_type": "code",
   "execution_count": null,
   "metadata": {},
   "outputs": [],
   "source": [
    "plt.figure(figsize=(15,3))\n",
    "plt.plot(a0c_vtime[\"t\"], -a0c_vtime[\"fEM\"]/a0c_vtime[\"fM\"]*100,label=\"0.0\", alpha=0.5)\n",
    "plt.plot(a2c_vtime[\"t\"], -a2c_vtime[\"fEM\"]/a2c_vtime[\"fM\"]*100,label=\"0.2\", alpha=0.5)\n",
    "plt.plot(a3c_vtime[\"t\"], -a3c_vtime[\"fEM\"]/a3c_vtime[\"fM\"]*100,label=\"0.3\", alpha=0.5)\n",
    "plt.plot(a5c_vtime[\"t\"], -a5c_vtime[\"fEM\"]/a5c_vtime[\"fM\"]*100,label=\"0.5\", alpha=0.5)\n",
    "plt.plot(a94c_vtime[\"t\"], -a94c_vtime[\"fEM\"]/a94c_vtime[\"fM\"]*100,label=\"0.9375\", color=\"red\", alpha=0.5)\n",
    "\n",
    "plt.ylabel(r'$\\eta_{EM}$')\n",
    "plt.xlabel(r'$t (r_g/c)$')\n",
    "plt.title(r\"$h/r=0.1$\",fontsize=17)\n",
    "plt.ylim(-5,105)\n",
    "plt.legend(fontsize=12)\n",
    "plt.grid()"
   ]
  },
  {
   "cell_type": "markdown",
   "metadata": {},
   "source": [
    "### $\\Sigma_1$"
   ]
  },
  {
   "cell_type": "code",
   "execution_count": null,
   "metadata": {},
   "outputs": [],
   "source": [
    "plt.figure(figsize=(15,3))\n",
    "plt.plot(a0c_vtime[\"t\"], a0c_vtime[\"Sigma_1\"],label=\"0.0\", alpha=0.5)\n",
    "plt.plot(a2c_vtime[\"t\"], a2c_vtime[\"Sigma_1\"],label=\"0.2\", alpha=0.5)\n",
    "plt.plot(a3c_vtime[\"t\"], a3c_vtime[\"Sigma_1\"],label=\"0.3\", alpha=0.5)\n",
    "plt.plot(a5c_vtime[\"t\"], a5c_vtime[\"Sigma_1\"],label=\"0.5\", alpha=0.5)\n",
    "plt.plot(a94c_vtime[\"t\"], a94c_vtime[\"Sigma_1\"],label=\"0.9375\", color=\"red\", alpha=0.5)\n",
    "\n",
    "plt.ylabel(r'$\\Sigma_{1}$')\n",
    "plt.xlabel(r'$t (r_g/c)$')\n",
    "plt.title(r\"$h/r=0.1$\",fontsize=17)\n",
    "plt.ylim(-5,105)\n",
    "plt.legend(fontsize=12)\n",
    "plt.grid()"
   ]
  },
  {
   "cell_type": "markdown",
   "metadata": {},
   "source": [
    "### $\\Sigma_2$"
   ]
  },
  {
   "cell_type": "code",
   "execution_count": null,
   "metadata": {},
   "outputs": [],
   "source": [
    "plt.figure(figsize=(15,3))\n",
    "plt.plot(a0c_vtime[\"t\"], a0c_vtime[\"Sigma_2\"],label=\"0.0\", alpha=0.5)\n",
    "plt.plot(a2c_vtime[\"t\"], a2c_vtime[\"Sigma_2\"],label=\"0.2\", alpha=0.5)\n",
    "plt.plot(a3c_vtime[\"t\"], a3c_vtime[\"Sigma_2\"],label=\"0.3\", alpha=0.5)\n",
    "plt.plot(a5c_vtime[\"t\"], a5c_vtime[\"Sigma_2\"],label=\"0.5\", alpha=0.5)\n",
    "plt.plot(a94c_vtime[\"t\"], a94c_vtime[\"Sigma_2\"],label=\"0.9375\", color=\"red\", alpha=0.5)\n",
    "\n",
    "plt.ylabel(r'$\\Sigma_{2}$')\n",
    "plt.xlabel(r'$t (r_g/c)$')\n",
    "plt.title(r\"$h/r=0.1$\",fontsize=17)\n",
    "plt.ylim(-5,105)\n",
    "plt.legend(fontsize=12)\n",
    "plt.grid()"
   ]
  },
  {
   "cell_type": "markdown",
   "metadata": {
    "toc-hr-collapsed": true
   },
   "source": [
    "## All spins, $h/r=0.3$"
   ]
  },
  {
   "cell_type": "markdown",
   "metadata": {},
   "source": [
    "### $\\dot{M}$"
   ]
  },
  {
   "cell_type": "code",
   "execution_count": null,
   "metadata": {},
   "outputs": [],
   "source": [
    "plt.figure(figsize=(15,3))\n",
    "plt.plot(a0_vtime[\"t\"], a0_vtime[\"fM\"],label=\"0.2\", alpha=0.5)\n",
    "plt.plot(a2_vtime[\"t\"], a2_vtime[\"fM\"],label=\"0.2\", alpha=0.5)\n",
    "plt.plot(a3_vtime[\"t\"], a3_vtime[\"fM\"],label=\"0.3\", alpha=0.5)\n",
    "plt.plot(a5_vtime[\"t\"], a5_vtime[\"fM\"],label=\"0.5\", alpha=0.5)\n",
    "plt.plot(a94_vtime[\"t\"], a94_vtime[\"fM\"],label=\"0.9375\", color=\"red\", alpha=0.5)\n",
    "\n",
    "plt.ylabel(r'$\\dot{M}$')\n",
    "plt.xlabel(r'$t (r_g/c)$')\n",
    "plt.title(r\"$h/r=0.3$\",fontsize=17)\n",
    "plt.ylim(-5,105)\n",
    "plt.legend(fontsize=12)\n",
    "plt.grid()"
   ]
  },
  {
   "cell_type": "markdown",
   "metadata": {},
   "source": [
    "### $\\Phi_{BH}$"
   ]
  },
  {
   "cell_type": "code",
   "execution_count": null,
   "metadata": {},
   "outputs": [],
   "source": [
    "plt.figure(figsize=(15,3))\n",
    "plt.plot(a0_vtime[\"t\"], a0_vtime[\"PhiBH\"],label=\"0.2\", alpha=0.5)\n",
    "plt.plot(a2_vtime[\"t\"], a2_vtime[\"PhiBH\"],label=\"0.2\", alpha=0.5)\n",
    "plt.plot(a3_vtime[\"t\"], a3_vtime[\"PhiBH\"],label=\"0.3\", alpha=0.5)\n",
    "plt.plot(a5_vtime[\"t\"], a5_vtime[\"PhiBH\"],label=\"0.5\", alpha=0.5)\n",
    "plt.plot(a94_vtime[\"t\"], a94_vtime[\"PhiBH\"],label=\"0.9375\", color=\"red\", alpha=0.5)\n",
    "\n",
    "plt.ylabel(r'$\\Phi_{BH}$')\n",
    "plt.xlabel(r'$t (r_g/c)$')\n",
    "plt.title(r\"$h/r=0.3$\",fontsize=17)\n",
    "plt.ylim(-5,105)\n",
    "plt.legend(fontsize=12)\n",
    "plt.grid()"
   ]
  },
  {
   "cell_type": "markdown",
   "metadata": {},
   "source": [
    "### $\\phi_{BH}$"
   ]
  },
  {
   "cell_type": "code",
   "execution_count": null,
   "metadata": {},
   "outputs": [],
   "source": [
    "plt.figure(figsize=(15,3))\n",
    "plt.plot(a0_vtime[\"t\"], a0_vtime[\"phiBH\"],label=\"0.0\", alpha=0.5)\n",
    "plt.plot(a2_vtime[\"t\"], a2_vtime[\"phiBH\"],label=\"0.2\", alpha=0.5)\n",
    "plt.plot(a3_vtime[\"t\"], a3_vtime[\"phiBH\"],label=\"0.3\", alpha=0.5)\n",
    "plt.plot(a5_vtime[\"t\"], a5_vtime[\"phiBH\"],label=\"0.5\", alpha=0.5)\n",
    "plt.plot(a94_vtime[\"t\"], a94_vtime[\"phiBH\"],label=\"0.9375\", color=\"red\", alpha=0.5)\n",
    "\n",
    "plt.ylabel(r'$\\phi_{BH}$')\n",
    "plt.xlabel(r'$t (r_g/c)$')\n",
    "plt.title(r\"$h/r=0.3$\",fontsize=17)\n",
    "plt.ylim(-5,105)\n",
    "plt.legend(fontsize=12)\n",
    "plt.grid()"
   ]
  },
  {
   "cell_type": "markdown",
   "metadata": {},
   "source": [
    "### $\\eta_{EM}$"
   ]
  },
  {
   "cell_type": "code",
   "execution_count": null,
   "metadata": {},
   "outputs": [],
   "source": [
    "plt.figure(figsize=(15,3))\n",
    "plt.plot(a0_vtime[\"t\"], -a0_vtime[\"fEM\"]/a0_vtime[\"fM\"]*100,label=\"0.0\", alpha=0.5)\n",
    "plt.plot(a2_vtime[\"t\"], -a2_vtime[\"fEM\"]/a2_vtime[\"fM\"]*100,label=\"0.2\", alpha=0.5)\n",
    "plt.plot(a3_vtime[\"t\"], -a3_vtime[\"fEM\"]/a3_vtime[\"fM\"]*100,label=\"0.3\", alpha=0.5)\n",
    "plt.plot(a5_vtime[\"t\"], -a5_vtime[\"fEM\"]/a5_vtime[\"fM\"]*100,label=\"0.5\", alpha=0.5)\n",
    "plt.plot(a94_vtime[\"t\"], -a94_vtime[\"fEM\"]/a94_vtime[\"fM\"]*100,label=\"0.9375\", color=\"red\", alpha=0.5)\n",
    "\n",
    "plt.ylabel(r'$\\eta_{EM}$')\n",
    "plt.xlabel(r'$t (r_g/c)$')\n",
    "plt.title(r\"$h/r=0.3$\",fontsize=17)\n",
    "plt.ylim(-5,105)\n",
    "plt.legend(fontsize=12)\n",
    "plt.grid()"
   ]
  },
  {
   "cell_type": "markdown",
   "metadata": {},
   "source": [
    "### $\\Sigma_1$"
   ]
  },
  {
   "cell_type": "code",
   "execution_count": null,
   "metadata": {},
   "outputs": [],
   "source": [
    "plt.figure(figsize=(15,3))\n",
    "plt.plot(a0_vtime[\"t\"], a0_vtime[\"Sigma_1\"],label=\"0.0\", alpha=0.5)\n",
    "plt.plot(a2_vtime[\"t\"], a2_vtime[\"Sigma_1\"],label=\"0.2\", alpha=0.5)\n",
    "plt.plot(a3_vtime[\"t\"], a3_vtime[\"Sigma_1\"],label=\"0.3\", alpha=0.5)\n",
    "plt.plot(a5_vtime[\"t\"], a5_vtime[\"Sigma_1\"],label=\"0.5\", alpha=0.5)\n",
    "plt.plot(a94_vtime[\"t\"], a94_vtime[\"Sigma_1\"],label=\"0.9375\", color=\"red\", alpha=0.5)\n",
    "\n",
    "plt.ylabel(r'$\\Sigma_{1}$')\n",
    "plt.xlabel(r'$t (r_g/c)$')\n",
    "plt.title(r\"$h/r=0.3$\",fontsize=17)\n",
    "plt.ylim(-5,105)\n",
    "plt.legend(fontsize=12)\n",
    "plt.grid()"
   ]
  },
  {
   "cell_type": "markdown",
   "metadata": {},
   "source": [
    "### $\\Sigma_2$"
   ]
  },
  {
   "cell_type": "code",
   "execution_count": null,
   "metadata": {},
   "outputs": [],
   "source": [
    "plt.figure(figsize=(15,3))\n",
    "plt.plot(a0_vtime[\"t\"], a0_vtime[\"Sigma_2\"],label=\"0.0\", alpha=0.5)\n",
    "plt.plot(a2_vtime[\"t\"], a2_vtime[\"Sigma_2\"],label=\"0.2\", alpha=0.5)\n",
    "plt.plot(a3_vtime[\"t\"], a3_vtime[\"Sigma_2\"],label=\"0.3\", alpha=0.5)\n",
    "plt.plot(a5_vtime[\"t\"], a5_vtime[\"Sigma_2\"],label=\"0.5\", alpha=0.5)\n",
    "plt.plot(a94_vtime[\"t\"], a94_vtime[\"Sigma_2\"],label=\"0.9375\", color=\"red\", alpha=0.5)\n",
    "\n",
    "plt.ylabel(r'$\\Sigma_{2}$')\n",
    "plt.xlabel(r'$t (r_g/c)$')\n",
    "plt.title(r\"$h/r=0.1$\",fontsize=17)\n",
    "plt.ylim(-5,105)\n",
    "plt.legend(fontsize=12)\n",
    "plt.grid()"
   ]
  },
  {
   "cell_type": "markdown",
   "metadata": {},
   "source": [
    "## Comparing cooled and uncooled disks"
   ]
  },
  {
   "cell_type": "markdown",
   "metadata": {},
   "source": [
    "### $a=0.9375$"
   ]
  },
  {
   "cell_type": "code",
   "execution_count": null,
   "metadata": {},
   "outputs": [],
   "source": []
  },
  {
   "cell_type": "code",
   "execution_count": null,
   "metadata": {},
   "outputs": [],
   "source": []
  },
  {
   "cell_type": "code",
   "execution_count": null,
   "metadata": {},
   "outputs": [],
   "source": []
  },
  {
   "cell_type": "markdown",
   "metadata": {},
   "source": [
    "# Plot spacetime diagrams"
   ]
  },
  {
   "cell_type": "markdown",
   "metadata": {},
   "source": [
    "## $\\Sigma$"
   ]
  },
  {
   "cell_type": "code",
   "execution_count": null,
   "metadata": {},
   "outputs": [],
   "source": []
  },
  {
   "cell_type": "markdown",
   "metadata": {},
   "source": [
    "## $\\Phi_{BH}$"
   ]
  },
  {
   "cell_type": "code",
   "execution_count": null,
   "metadata": {},
   "outputs": [],
   "source": []
  },
  {
   "cell_type": "markdown",
   "metadata": {},
   "source": [
    "## $\\phi_{BH}$"
   ]
  },
  {
   "cell_type": "code",
   "execution_count": null,
   "metadata": {},
   "outputs": [],
   "source": []
  },
  {
   "cell_type": "markdown",
   "metadata": {},
   "source": [
    "## $a_{\\phi}$"
   ]
  },
  {
   "cell_type": "code",
   "execution_count": null,
   "metadata": {},
   "outputs": [],
   "source": []
  },
  {
   "cell_type": "markdown",
   "metadata": {},
   "source": [
    "## $v_{\\phi}$"
   ]
  },
  {
   "cell_type": "code",
   "execution_count": null,
   "metadata": {},
   "outputs": [],
   "source": []
  },
  {
   "cell_type": "code",
   "execution_count": null,
   "metadata": {},
   "outputs": [],
   "source": []
  }
 ],
 "metadata": {
  "kernelspec": {
   "display_name": "Python 3 (ipykernel)",
   "language": "python",
   "name": "python3"
  },
  "language_info": {
   "codemirror_mode": {
    "name": "ipython",
    "version": 3
   },
   "file_extension": ".py",
   "mimetype": "text/x-python",
   "name": "python",
   "nbconvert_exporter": "python",
   "pygments_lexer": "ipython3",
   "version": "3.7.6"
  }
 },
 "nbformat": 4,
 "nbformat_minor": 4
}
